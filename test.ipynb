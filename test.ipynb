{
 "cells": [
  {
   "cell_type": "code",
   "execution_count": 1,
   "metadata": {},
   "outputs": [],
   "source": [
    "import os\n",
    "os.environ[\"CUDA_VISIBLE_DEVICES\"]=\"0,1,2,3,4,5,6,7\""
   ]
  },
  {
   "cell_type": "code",
   "execution_count": 2,
   "metadata": {},
   "outputs": [
    {
     "name": "stdout",
     "output_type": "stream",
     "text": [
      "0,1,2,3,4,5,6,7\n"
     ]
    }
   ],
   "source": [
    "!echo $CUDA_VISIBLE_DEVICES"
   ]
  },
  {
   "cell_type": "code",
   "execution_count": 3,
   "metadata": {},
   "outputs": [
    {
     "name": "stdout",
     "output_type": "stream",
     "text": [
      "Fri Sep 27 17:55:29 2024       \n",
      "+---------------------------------------------------------------------------------------+\n",
      "| NVIDIA-SMI 535.161.08             Driver Version: 535.161.08   CUDA Version: 12.2     |\n",
      "|-----------------------------------------+----------------------+----------------------+\n",
      "| GPU  Name                 Persistence-M | Bus-Id        Disp.A | Volatile Uncorr. ECC |\n",
      "| Fan  Temp   Perf          Pwr:Usage/Cap |         Memory-Usage | GPU-Util  Compute M. |\n",
      "|                                         |                      |               MIG M. |\n",
      "|=========================================+======================+======================|\n",
      "|   0  NVIDIA H100 80GB HBM3          On  | 00000000:53:00.0 Off |                    0 |\n",
      "| N/A   31C    P0              73W / 700W |      0MiB / 81559MiB |      0%      Default |\n",
      "|                                         |                      |             Disabled |\n",
      "+-----------------------------------------+----------------------+----------------------+\n",
      "|   1  NVIDIA H100 80GB HBM3          On  | 00000000:64:00.0 Off |                    0 |\n",
      "| N/A   33C    P0              68W / 700W |      0MiB / 81559MiB |      0%      Default |\n",
      "|                                         |                      |             Disabled |\n",
      "+-----------------------------------------+----------------------+----------------------+\n",
      "|   2  NVIDIA H100 80GB HBM3          On  | 00000000:75:00.0 Off |                    0 |\n",
      "| N/A   31C    P0              67W / 700W |      0MiB / 81559MiB |      0%      Default |\n",
      "|                                         |                      |             Disabled |\n",
      "+-----------------------------------------+----------------------+----------------------+\n",
      "|   3  NVIDIA H100 80GB HBM3          On  | 00000000:86:00.0 Off |                    0 |\n",
      "| N/A   33C    P0              71W / 700W |      0MiB / 81559MiB |      0%      Default |\n",
      "|                                         |                      |             Disabled |\n",
      "+-----------------------------------------+----------------------+----------------------+\n",
      "|   4  NVIDIA H100 80GB HBM3          On  | 00000000:97:00.0 Off |                    0 |\n",
      "| N/A   33C    P0              70W / 700W |      0MiB / 81559MiB |      0%      Default |\n",
      "|                                         |                      |             Disabled |\n",
      "+-----------------------------------------+----------------------+----------------------+\n",
      "|   5  NVIDIA H100 80GB HBM3          On  | 00000000:A8:00.0 Off |                    0 |\n",
      "| N/A   31C    P0              70W / 700W |      0MiB / 81559MiB |      0%      Default |\n",
      "|                                         |                      |             Disabled |\n",
      "+-----------------------------------------+----------------------+----------------------+\n",
      "|   6  NVIDIA H100 80GB HBM3          On  | 00000000:B9:00.0 Off |                    0 |\n",
      "| N/A   33C    P0              70W / 700W |      0MiB / 81559MiB |      0%      Default |\n",
      "|                                         |                      |             Disabled |\n",
      "+-----------------------------------------+----------------------+----------------------+\n",
      "|   7  NVIDIA H100 80GB HBM3          On  | 00000000:CA:00.0 Off |                    0 |\n",
      "| N/A   31C    P0              68W / 700W |      0MiB / 81559MiB |      0%      Default |\n",
      "|                                         |                      |             Disabled |\n",
      "+-----------------------------------------+----------------------+----------------------+\n",
      "                                                                                         \n",
      "+---------------------------------------------------------------------------------------+\n",
      "| Processes:                                                                            |\n",
      "|  GPU   GI   CI        PID   Type   Process name                            GPU Memory |\n",
      "|        ID   ID                                                             Usage      |\n",
      "|=======================================================================================|\n",
      "|  No running processes found                                                           |\n",
      "+---------------------------------------------------------------------------------------+\n"
     ]
    }
   ],
   "source": [
    "!nvidia-smi"
   ]
  },
  {
   "cell_type": "code",
   "execution_count": 4,
   "metadata": {},
   "outputs": [
    {
     "name": "stdout",
     "output_type": "stream",
     "text": [
      "DatasetDict({\n",
      "    train: Dataset({\n",
      "        features: ['client_id', 'path', 'audio', 'sentence', 'up_votes', 'down_votes', 'age', 'gender', 'accent', 'locale', 'segment'],\n",
      "        num_rows: 4485\n",
      "    })\n",
      "    test: Dataset({\n",
      "        features: ['client_id', 'path', 'audio', 'sentence', 'up_votes', 'down_votes', 'age', 'gender', 'accent', 'locale', 'segment'],\n",
      "        num_rows: 4604\n",
      "    })\n",
      "})\n"
     ]
    }
   ],
   "source": [
    "from datasets import load_dataset, DatasetDict\n",
    "\n",
    "common_voice = DatasetDict()\n",
    "\n",
    "# common_voice[\"train\"] = load_dataset(\"mozilla-foundation/common_voice_11_0\", \"en\", split=\"train+validation\", use_auth_token=True)\n",
    "common_voice[\"train\"] = load_dataset(\"mozilla-foundation/common_voice_11_0\", \"ja\", split=\"validation\")\n",
    "common_voice[\"test\"] = load_dataset(\"mozilla-foundation/common_voice_11_0\", \"ja\", split=\"test\")\n",
    "\n",
    "print(common_voice)\n",
    "\n"
   ]
  },
  {
   "cell_type": "code",
   "execution_count": 5,
   "metadata": {},
   "outputs": [
    {
     "name": "stdout",
     "output_type": "stream",
     "text": [
      "DatasetDict({\n",
      "    train: Dataset({\n",
      "        features: ['audio', 'sentence'],\n",
      "        num_rows: 4485\n",
      "    })\n",
      "    test: Dataset({\n",
      "        features: ['audio', 'sentence'],\n",
      "        num_rows: 4604\n",
      "    })\n",
      "})\n"
     ]
    }
   ],
   "source": [
    "common_voice = common_voice.remove_columns([\"accent\", \"age\", \"client_id\", \"down_votes\", \"gender\", \"locale\", \"path\", \"segment\", \"up_votes\"])\n",
    "\n",
    "print(common_voice)"
   ]
  },
  {
   "cell_type": "code",
   "execution_count": 6,
   "metadata": {},
   "outputs": [],
   "source": [
    "from transformers import WhisperFeatureExtractor\n",
    "from transformers import WhisperTokenizer\n",
    "from transformers import WhisperProcessor\n",
    "\n",
    "feature_extractor = WhisperFeatureExtractor.from_pretrained(\"openai/whisper-small\")\n",
    "tokenizer = WhisperTokenizer.from_pretrained(\"openai/whisper-small\", language=\"Japanese\", task=\"transcribe\")\n",
    "processor = WhisperProcessor.from_pretrained(\"openai/whisper-small\", language=\"Japanese\", task=\"transcribe\")"
   ]
  },
  {
   "cell_type": "code",
   "execution_count": 7,
   "metadata": {},
   "outputs": [
    {
     "name": "stdout",
     "output_type": "stream",
     "text": [
      "{'audio': {'path': '/fsx/home/jasonlee/.cache/huggingface/datasets/downloads/extracted/0b9e85da7c8368d23e35fc7f82bab3e462520595247e9a7fb6bdcab5cf2adf81/ja_dev_0/common_voice_ja_22467234.mp3', 'array': array([0.00000000e+00, 8.80093547e-20, 1.15955303e-19, ...,\n",
      "       1.41901901e-05, 1.70817948e-05, 1.66023838e-05]), 'sampling_rate': 48000}, 'sentence': 'わたしは子どものころ、よくあの公園で遊びました。'}\n"
     ]
    }
   ],
   "source": [
    "print(common_voice[\"train\"][0])"
   ]
  },
  {
   "cell_type": "code",
   "execution_count": 8,
   "metadata": {},
   "outputs": [
    {
     "name": "stdout",
     "output_type": "stream",
     "text": [
      "一週間ばかり、ニューヨークを取材した。\n"
     ]
    },
    {
     "data": {
      "text/html": [
       "\n",
       "                <audio  controls=\"controls\" >\n",
       "                    <source src=\"data:audio/mpeg;base64,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\" type=\"audio/mpeg\" />\n",
       "                    Your browser does not support the audio element.\n",
       "                </audio>\n",
       "              "
      ],
      "text/plain": [
       "<IPython.lib.display.Audio object>"
      ]
     },
     "execution_count": 8,
     "metadata": {},
     "output_type": "execute_result"
    }
   ],
   "source": [
    "from IPython.display import Audio\n",
    "\n",
    "k = 4\n",
    "print (common_voice[\"train\"][k][\"sentence\"])\n",
    "Audio(common_voice[\"train\"][k][\"audio\"][\"path\"])\n"
   ]
  },
  {
   "cell_type": "code",
   "execution_count": 9,
   "metadata": {},
   "outputs": [
    {
     "name": "stdout",
     "output_type": "stream",
     "text": [
      "{'audio': {'path': '/fsx/home/jasonlee/.cache/huggingface/datasets/downloads/extracted/0b9e85da7c8368d23e35fc7f82bab3e462520595247e9a7fb6bdcab5cf2adf81/ja_dev_0/common_voice_ja_22467234.mp3', 'array': array([-2.27373675e-13,  5.40012479e-13, -1.98951966e-13, ...,\n",
      "        5.27215161e-06,  1.26785590e-05,  1.60434029e-05]), 'sampling_rate': 16000}, 'sentence': 'わたしは子どものころ、よくあの公園で遊びました。'}\n"
     ]
    }
   ],
   "source": [
    "from datasets import Audio\n",
    "\n",
    "common_voice = common_voice.cast_column(\"audio\", Audio(sampling_rate=16000))\n",
    "print(common_voice[\"train\"][0])"
   ]
  },
  {
   "cell_type": "code",
   "execution_count": 10,
   "metadata": {},
   "outputs": [],
   "source": [
    "def prepare_dataset(batch):\n",
    "    # load and resample audio data from 48 to 16kHz\n",
    "    audio = batch[\"audio\"]\n",
    "\n",
    "    # compute log-Mel input features from input audio array\n",
    "    batch[\"input_features\"] = feature_extractor(audio[\"array\"], sampling_rate=audio[\"sampling_rate\"]).input_features[0]\n",
    "\n",
    "    # encode target text to label ids\n",
    "    batch[\"labels\"] = tokenizer(batch[\"sentence\"]).input_ids\n",
    "    return batch\n",
    "\n",
    "common_voice = common_voice.map(prepare_dataset, remove_columns=common_voice.column_names[\"train\"], num_proc=2)"
   ]
  },
  {
   "cell_type": "code",
   "execution_count": 11,
   "metadata": {},
   "outputs": [],
   "source": [
    "from transformers import WhisperForConditionalGeneration\n",
    "\n",
    "model = WhisperForConditionalGeneration.from_pretrained(\"openai/whisper-small\")\n",
    "\n",
    "model.generation_config.language = \"japanese\"\n",
    "model.generation_config.task = \"transcribe\"\n",
    "\n",
    "model.generation_config.forced_decoder_ids = None"
   ]
  },
  {
   "cell_type": "code",
   "execution_count": 12,
   "metadata": {},
   "outputs": [],
   "source": [
    "import torch\n",
    "\n",
    "from dataclasses import dataclass\n",
    "from typing import Any, Dict, List, Union\n",
    "\n",
    "@dataclass\n",
    "class DataCollatorSpeechSeq2SeqWithPadding:\n",
    "    processor: Any\n",
    "    decoder_start_token_id: int\n",
    "\n",
    "    def __call__(self, features: List[Dict[str, Union[List[int], torch.Tensor]]]) -> Dict[str, torch.Tensor]:\n",
    "        # split inputs and labels since they have to be of different lengths and need different padding methods\n",
    "        # first treat the audio inputs by simply returning torch tensors\n",
    "        input_features = [{\"input_features\": feature[\"input_features\"]} for feature in features]\n",
    "        batch = self.processor.feature_extractor.pad(input_features, return_tensors=\"pt\")\n",
    "\n",
    "        # get the tokenized label sequences\n",
    "        label_features = [{\"input_ids\": feature[\"labels\"]} for feature in features]\n",
    "        # pad the labels to max length\n",
    "        labels_batch = self.processor.tokenizer.pad(label_features, return_tensors=\"pt\")\n",
    "\n",
    "        # replace padding with -100 to ignore loss correctly\n",
    "        labels = labels_batch[\"input_ids\"].masked_fill(labels_batch.attention_mask.ne(1), -100)\n",
    "\n",
    "        # if bos token is appended in previous tokenization step,\n",
    "        # cut bos token here as it's append later anyways\n",
    "        if (labels[:, 0] == self.decoder_start_token_id).all().cpu().item():\n",
    "            labels = labels[:, 1:]\n",
    "\n",
    "        batch[\"labels\"] = labels\n",
    "\n",
    "        return batch\n",
    "\n",
    "data_collator = DataCollatorSpeechSeq2SeqWithPadding(\n",
    "    processor=processor,\n",
    "    decoder_start_token_id=model.config.decoder_start_token_id,\n",
    ")"
   ]
  },
  {
   "cell_type": "code",
   "execution_count": 13,
   "metadata": {},
   "outputs": [
    {
     "name": "stderr",
     "output_type": "stream",
     "text": [
      "2024-09-27 17:55:45.514507: E external/local_xla/xla/stream_executor/cuda/cuda_fft.cc:485] Unable to register cuFFT factory: Attempting to register factory for plugin cuFFT when one has already been registered\n",
      "2024-09-27 17:55:45.527409: E external/local_xla/xla/stream_executor/cuda/cuda_dnn.cc:8454] Unable to register cuDNN factory: Attempting to register factory for plugin cuDNN when one has already been registered\n",
      "2024-09-27 17:55:45.531312: E external/local_xla/xla/stream_executor/cuda/cuda_blas.cc:1452] Unable to register cuBLAS factory: Attempting to register factory for plugin cuBLAS when one has already been registered\n",
      "2024-09-27 17:55:45.542863: I tensorflow/core/platform/cpu_feature_guard.cc:210] This TensorFlow binary is optimized to use available CPU instructions in performance-critical operations.\n",
      "To enable the following instructions: AVX2 FMA, in other operations, rebuild TensorFlow with the appropriate compiler flags.\n",
      "2024-09-27 17:55:47.500398: W tensorflow/compiler/tf2tensorrt/utils/py_utils.cc:38] TF-TRT Warning: Could not find TensorRT\n",
      "/fsx/home/jasonlee/.local/lib/python3.10/site-packages/transformers/training_args.py:1545: FutureWarning: `evaluation_strategy` is deprecated and will be removed in version 4.46 of 🤗 Transformers. Use `eval_strategy` instead\n",
      "  warnings.warn(\n",
      "max_steps is given, it will override any value given in num_train_epochs\n"
     ]
    }
   ],
   "source": [
    "import evaluate\n",
    "\n",
    "metric = evaluate.load(\"wer\")\n",
    "\n",
    "def compute_metrics(pred):\n",
    "    pred_ids = pred.predictions\n",
    "    label_ids = pred.label_ids\n",
    "\n",
    "    # replace -100 with the pad_token_id\n",
    "    label_ids[label_ids == -100] = tokenizer.pad_token_id\n",
    "\n",
    "    # we do not want to group tokens when computing the metrics\n",
    "    pred_str = tokenizer.batch_decode(pred_ids, skip_special_tokens=True)\n",
    "    label_str = tokenizer.batch_decode(label_ids, skip_special_tokens=True)\n",
    "\n",
    "    wer = 100 * metric.compute(predictions=pred_str, references=label_str)\n",
    "\n",
    "    return {\"wer\": wer}\n",
    "\n",
    "from transformers import Seq2SeqTrainingArguments\n",
    "\n",
    "training_args = Seq2SeqTrainingArguments(\n",
    "    output_dir=\"./whisper-small-hi\",  # change to a repo name of your choice\n",
    "    per_device_train_batch_size=16,\n",
    "    gradient_accumulation_steps=1,  # increase by 2x for every 2x decrease in batch size\n",
    "    learning_rate=1e-5,\n",
    "    warmup_steps=500,\n",
    "    max_steps=4000,\n",
    "    gradient_checkpointing=True,\n",
    "    fp16=True,\n",
    "    evaluation_strategy=\"steps\",\n",
    "    per_device_eval_batch_size=8,\n",
    "    predict_with_generate=True,\n",
    "    generation_max_length=225,\n",
    "    save_steps=1000,\n",
    "    eval_steps=1000,\n",
    "    logging_steps=25,\n",
    "    report_to=[\"tensorboard\"],\n",
    "    load_best_model_at_end=True,\n",
    "    metric_for_best_model=\"wer\",\n",
    "    greater_is_better=False,\n",
    "    push_to_hub=True,\n",
    ")\n",
    "\n",
    "from transformers import Seq2SeqTrainer\n",
    "\n",
    "trainer = Seq2SeqTrainer(\n",
    "    args=training_args,\n",
    "    model=model,\n",
    "    train_dataset=common_voice[\"train\"],\n",
    "    eval_dataset=common_voice[\"test\"],\n",
    "    data_collator=data_collator,\n",
    "    compute_metrics=compute_metrics,\n",
    "    tokenizer=processor.feature_extractor,\n",
    ")"
   ]
  },
  {
   "cell_type": "code",
   "execution_count": 14,
   "metadata": {},
   "outputs": [
    {
     "name": "stdout",
     "output_type": "stream",
     "text": [
      "[2024-09-27 17:55:53,197] [INFO] [real_accelerator.py:203:get_accelerator] Setting ds_accelerator to cuda (auto detect)\n"
     ]
    },
    {
     "name": "stderr",
     "output_type": "stream",
     "text": [
      "/usr/bin/ld: cannot find -laio\n",
      "collect2: error: ld returned 1 exit status\n"
     ]
    },
    {
     "name": "stdout",
     "output_type": "stream",
     "text": [
      "\u001b[93m [WARNING] \u001b[0m async_io requires the dev libaio .so object and headers but these were not found.\n",
      "\u001b[93m [WARNING] \u001b[0m async_io: please install the libaio-dev package with apt\n",
      "\u001b[93m [WARNING] \u001b[0m If libaio is already installed (perhaps from source), try setting the CFLAGS and LDFLAGS environment variables to where it can be found.\n"
     ]
    },
    {
     "name": "stderr",
     "output_type": "stream",
     "text": [
      "Passing a tuple of `past_key_values` is deprecated and will be removed in Transformers v4.43.0. You should pass an instance of `EncoderDecoderCache` instead, e.g. `past_key_values=EncoderDecoderCache.from_legacy_cache(past_key_values)`.\n",
      "`use_cache = True` is incompatible with gradient checkpointing. Setting `use_cache = False`...\n",
      "/fsx/hyperpod/conda/envs/xenv-0020/lib/python3.10/site-packages/torch/nn/parallel/_functions.py:68: UserWarning: Was asked to gather along dimension 0, but all input tensors were scalars; will instead unsqueeze and return a vector.\n",
      "  warnings.warn('Was asked to gather along dimension 0, but all '\n"
     ]
    }
   ],
   "source": [
    "processor.save_pretrained(training_args.output_dir)\n",
    "\n",
    "trainer.train()\n",
    "\n",
    "kwargs = {\n",
    "    \"dataset_tags\": \"mozilla-foundation/common_voice_11_0\",\n",
    "    \"dataset\": \"Common Voice 11.0\",  # a 'pretty' name for the training dataset\n",
    "    \"dataset_args\": \"config: ja, split: test\",\n",
    "    \"language\": \"ja\",\n",
    "    \"model_name\": \"Whisper Small Hi - Sanchit Gandhi\",  # a 'pretty' name for our model\n",
    "    \"finetuned_from\": \"openai/whisper-small\",\n",
    "    \"tasks\": \"automatic-speech-recognition\",\n",
    "}"
   ]
  }
 ],
 "metadata": {
  "kernelspec": {
   "display_name": "xenv-0020",
   "language": "python",
   "name": "python3"
  },
  "language_info": {
   "codemirror_mode": {
    "name": "ipython",
    "version": 3
   },
   "file_extension": ".py",
   "mimetype": "text/x-python",
   "name": "python",
   "nbconvert_exporter": "python",
   "pygments_lexer": "ipython3",
   "version": "3.10.14"
  }
 },
 "nbformat": 4,
 "nbformat_minor": 2
}
